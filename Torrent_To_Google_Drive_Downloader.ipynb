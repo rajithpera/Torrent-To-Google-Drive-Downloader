{
  "nbformat": 4,
  "nbformat_minor": 2,
  "metadata": {
    "colab": {
      "name": "Torrent To Google Drive Downloader",
      "provenance": [],
      "collapsed_sections": [],
      "include_colab_link": true
    },
    "kernelspec": {
      "name": "python3",
      "display_name": "Python 3.9.7 64-bit"
    },
    "language_info": {
      "name": "python",
      "version": "3.9.7",
      "mimetype": "text/x-python",
      "codemirror_mode": {
        "name": "ipython",
        "version": 3
      },
      "pygments_lexer": "ipython3",
      "nbconvert_exporter": "python",
      "file_extension": ".py"
    },
    "interpreter": {
      "hash": "fe44fef87f92f48a3a32707d0df204585f471652bc0ce87358a3ce712bc24db0"
    }
  },
  "cells": [
    {
      "cell_type": "markdown",
      "source": [
        "<a href=\"https://colab.research.google.com/github/FKLC/Torrent-To-Google-Drive-Downloader/blob/master/Torrent_To_Google_Drive_Downloader.ipynb\" target=\"_parent\"><img src=\"https://colab.research.google.com/assets/colab-badge.svg\" alt=\"Open In Colab\"/></a>"
      ],
      "metadata": {
        "id": "view-in-github",
        "colab_type": "text"
      }
    },
    {
      "cell_type": "markdown",
      "source": [
        "# Torrent To Google Drive Downloader "
      ],
      "metadata": {
        "id": "aQuWDmfm9YOi",
        "colab_type": "text"
      }
    },
    {
      "cell_type": "markdown",
      "source": [
        "**Important Note:** To get more disk space:\n",
        "> Go to Runtime -> Change Runtime and give GPU as the Hardware Accelerator.  You will get around 384GB to download any torrent you want."
      ],
      "metadata": {
        "id": "qYk44mBwJf6E",
        "colab_type": "text"
      }
    },
    {
      "cell_type": "markdown",
      "source": [
        "### Install libtorrent and Initialize Session"
      ],
      "metadata": {
        "id": "NaFa7M-e9YOr",
        "colab_type": "text"
      }
    },
    {
      "cell_type": "code",
      "execution_count": null,
      "source": [
        "!python -m pip install --upgrade pip setuptools wheel\r\n",
        "!python -m pip install lbry-libtorrent\r\n",
        "!apt install python3-libtorrent\r\n",
        "\r\n",
        "import libtorrent as lt\r\n",
        "\r\n",
        "ses = lt.session()\r\n",
        "ses.listen_on(6881, 6891)\r\n",
        "downloads = []"
      ],
      "outputs": [],
      "metadata": {
        "colab_type": "code",
        "id": "m6hF0emftx4h",
        "colab": {}
      }
    },
    {
      "cell_type": "markdown",
      "source": [
        "### Mount Google Drive\n",
        "To stream files we need to mount Google Drive."
      ],
      "metadata": {
        "id": "Uf90U73y9YOj",
        "colab_type": "text"
      }
    },
    {
      "cell_type": "code",
      "execution_count": null,
      "source": [
        "from google.colab import drive\r\n",
        "\r\n",
        "drive.mount(\"/content/drive\")"
      ],
      "outputs": [],
      "metadata": {
        "colab_type": "code",
        "id": "oWM9l2fvtuvO",
        "colab": {}
      }
    },
    {
      "cell_type": "markdown",
      "source": [
        "### Add From Torrent File\n",
        "You can run this cell to add more files as many times as you want"
      ],
      "metadata": {
        "id": "R_1XuuIf9YOn",
        "colab_type": "text"
      }
    },
    {
      "cell_type": "code",
      "execution_count": null,
      "source": [
        "from google.colab import files\r\n",
        "\r\n",
        "source = files.upload()\r\n",
        "params = {\r\n",
        "    \"save_path\": \"/content/drive/My Drive/Torrent\",\r\n",
        "    \"ti\": lt.torrent_info(list(source.keys())[0]),\r\n",
        "}\r\n",
        "downloads.append(ses.add_torrent(params))"
      ],
      "outputs": [],
      "metadata": {
        "colab_type": "code",
        "id": "0et2A6N3udA0",
        "colab": {}
      }
    },
    {
      "cell_type": "markdown",
      "source": [
        "### Add From Magnet Link\n",
        "You can run this cell to add more files as many times as you want"
      ],
      "metadata": {
        "id": "WD-6M6eZyzmj",
        "colab_type": "text"
      }
    },
    {
      "cell_type": "code",
      "execution_count": null,
      "source": [
        "params = {\"save_path\": \"/content/drive/My Drive/Torrent\"}\r\n",
        "\r\n",
        "while True:\r\n",
        "    magnet_link = input(\"Enter Magnet Link Or Type Exit: \")\r\n",
        "    if magnet_link.lower() == \"exit\":\r\n",
        "        break\r\n",
        "    downloads.append(\r\n",
        "        lt.add_magnet_uri(ses, magnet_link, params)\r\n",
        "    )\r\n"
      ],
      "outputs": [],
      "metadata": {
        "id": "Cwi1GMlxy3te",
        "colab_type": "code",
        "colab": {}
      }
    },
    {
      "cell_type": "markdown",
      "source": [
        "### Start Download\n",
        "Source: https://stackoverflow.com/a/5494823/7957705 and [#3 issue](https://github.com/FKLC/Torrent-To-Google-Drive-Downloader/issues/3) which refers to this [stackoverflow question](https://stackoverflow.com/a/6053350/7957705)"
      ],
      "metadata": {
        "id": "m-a1CUP39YOu",
        "colab_type": "text"
      }
    },
    {
      "cell_type": "code",
      "execution_count": null,
      "source": [
        "import time\r\n",
        "from IPython.display import display\r\n",
        "import ipywidgets as widgets\r\n",
        "\r\n",
        "state_str = [\r\n",
        "    \"queued\",\r\n",
        "    \"checking\",\r\n",
        "    \"downloading metadata\",\r\n",
        "    \"downloading\",\r\n",
        "    \"finished\",\r\n",
        "    \"seeding\",\r\n",
        "    \"allocating\",\r\n",
        "    \"checking fastresume\",\r\n",
        "]\r\n",
        "\r\n",
        "layout = widgets.Layout(width=\"auto\")\r\n",
        "style = {\"description_width\": \"initial\"}\r\n",
        "download_bars = [\r\n",
        "    widgets.FloatSlider(\r\n",
        "        step=0.01, disabled=True, layout=layout, style=style\r\n",
        "    )\r\n",
        "    for _ in downloads\r\n",
        "]\r\n",
        "display(*download_bars)\r\n",
        "\r\n",
        "while downloads:\r\n",
        "    next_shift = 0\r\n",
        "    for index, download in enumerate(downloads[:]):\r\n",
        "        bar = download_bars[index + next_shift]\r\n",
        "        if not download.is_seed():\r\n",
        "            s = download.status()\r\n",
        "\r\n",
        "            bar.description = \" \".join(\r\n",
        "                [\r\n",
        "                    download.name(),\r\n",
        "                    str(s.download_rate / 1000),\r\n",
        "                    \"kB/s\",\r\n",
        "                    state_str[s.state],\r\n",
        "                ]\r\n",
        "            )\r\n",
        "            bar.value = s.progress * 100\r\n",
        "        else:\r\n",
        "            next_shift -= 1\r\n",
        "            ses.remove_torrent(download)\r\n",
        "            downloads.remove(download)\r\n",
        "            bar.close() # Seems to be not working in Colab (see https://github.com/googlecolab/colabtools/issues/726#issue-486731758)\r\n",
        "            download_bars.remove(bar)\r\n",
        "            print(download.name(), \"complete\")\r\n",
        "    time.sleep(1)\r\n"
      ],
      "outputs": [],
      "metadata": {
        "colab_type": "code",
        "id": "DBNoYYoSuDBT",
        "colab": {}
      }
    }
  ]
}